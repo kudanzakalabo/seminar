{
  "cells": [
    {
      "cell_type": "markdown",
      "metadata": {
        "id": "view-in-github",
        "colab_type": "text"
      },
      "source": [
        "<a href=\"https://colab.research.google.com/github/kudanzakalabo/seminar/blob/main/Pytorch_LSTM_%E6%BC%94%E7%BF%92_%E3%83%AC%E3%83%B3%E3%82%BF%E3%83%AB%E8%87%AA%E8%BB%A2%E8%BB%8A.ipynb\" target=\"_parent\"><img src=\"https://colab.research.google.com/assets/colab-badge.svg\" alt=\"Open In Colab\"/></a>"
      ]
    },
    {
      "cell_type": "markdown",
      "metadata": {
        "id": "qSwLv1vhKBnZ"
      },
      "source": [
        "#レンタル自転車の利用者数予測問題\n",
        "\n",
        "https://signate.jp/competitions/114"
      ]
    },
    {
      "cell_type": "markdown",
      "metadata": {
        "id": "6eem2Dp7KSpy"
      },
      "source": [
        "#ライブラリ"
      ]
    },
    {
      "cell_type": "code",
      "execution_count": null,
      "metadata": {
        "id": "L64Ce9prKT5E"
      },
      "outputs": [],
      "source": [
        "import numpy as np\n",
        "import pandas as pd\n",
        "import seaborn as sns\n",
        "import matplotlib.pyplot as plt\n",
        "import scipy"
      ]
    },
    {
      "cell_type": "code",
      "execution_count": null,
      "metadata": {
        "id": "NNfuL5EEshL-"
      },
      "outputs": [],
      "source": [
        "from time import time\n",
        "from datetime import timedelta"
      ]
    },
    {
      "cell_type": "markdown",
      "metadata": {
        "id": "Dqq5L9pWFqZX"
      },
      "source": [
        "# Pytorch ライブラリ"
      ]
    },
    {
      "cell_type": "code",
      "execution_count": null,
      "metadata": {
        "id": "aCBZxO-IaklL"
      },
      "outputs": [],
      "source": [
        "from torch import nn\n",
        "from torch.nn import LSTM, Embedding, Linear\n",
        "from torch.nn.functional import one_hot\n",
        "import torch\n",
        "from torch import nn, optim\n",
        "from torch.utils.data import TensorDataset, DataLoader"
      ]
    },
    {
      "cell_type": "markdown",
      "metadata": {
        "id": "-CllaL2HKE8L"
      },
      "source": [
        "#データ"
      ]
    },
    {
      "cell_type": "code",
      "execution_count": null,
      "metadata": {
        "id": "tVi7d86-GnzW"
      },
      "outputs": [],
      "source": [
        "#df_rent_train = pd.read_table(\"rent_train.tsv\")\n",
        "df_rent_train = pd.read_table('https://tus.box.com/shared/static/bnc2uu2auq466c6zcc31xawmaezdgcmo.tsv')\n",
        "df_rent_train"
      ]
    },
    {
      "cell_type": "code",
      "execution_count": null,
      "metadata": {
        "id": "IJ0LY5z0KedA"
      },
      "outputs": [],
      "source": [
        "#データ型確認\n",
        "df_rent_train.info()"
      ]
    },
    {
      "cell_type": "code",
      "execution_count": null,
      "metadata": {
        "id": "6blufgFIK94f"
      },
      "outputs": [],
      "source": [
        "#テストコード - 日付フォーマット\n",
        "df_rent_train[['dteday','hr']].apply(lambda x: x['dteday'] + ' ' + str(x['hr'])+':00', axis=1)"
      ]
    },
    {
      "cell_type": "code",
      "execution_count": null,
      "metadata": {
        "id": "pLymkxKoLRCg"
      },
      "outputs": [],
      "source": [
        "#テストコード - 日付フォーマット\n",
        "pd.to_datetime(df_rent_train[['dteday','hr']].apply(lambda x: x['dteday'] + ' ' + str(x['hr'])+':00', axis=1))"
      ]
    },
    {
      "cell_type": "code",
      "execution_count": null,
      "metadata": {
        "id": "tf2vAADjMWoN"
      },
      "outputs": [],
      "source": [
        "df_dateindex = df_rent_train.set_index(pd.to_datetime(df_rent_train[['dteday','hr']].apply(lambda x: x['dteday'] + ' ' + str(x['hr'])+':00', axis=1)))\n",
        "df_dateindex"
      ]
    },
    {
      "cell_type": "code",
      "execution_count": null,
      "metadata": {
        "id": "jtn47wWwN0ah"
      },
      "outputs": [],
      "source": [
        "df_dateindex.describe()"
      ]
    },
    {
      "cell_type": "markdown",
      "metadata": {
        "id": "W2xiPUz2UGps"
      },
      "source": [
        "#基礎分析"
      ]
    },
    {
      "cell_type": "code",
      "execution_count": null,
      "metadata": {
        "id": "4DQ6lbAyNBnw"
      },
      "outputs": [],
      "source": [
        "sns.boxplot(data=df_dateindex, x='season',y='cnt')"
      ]
    },
    {
      "cell_type": "code",
      "execution_count": null,
      "metadata": {
        "id": "f1NQK2x_Nnl1"
      },
      "outputs": [],
      "source": [
        "sns.boxplot(data=df_dateindex, x='mnth',y='cnt')"
      ]
    },
    {
      "cell_type": "code",
      "execution_count": null,
      "metadata": {
        "id": "Hqh_RAGqN95c"
      },
      "outputs": [],
      "source": [
        "sns.boxplot(data=df_dateindex,x='hr',y='cnt')"
      ]
    },
    {
      "cell_type": "code",
      "execution_count": null,
      "metadata": {
        "id": "2-8ajvd2ONN2"
      },
      "outputs": [],
      "source": [
        "sns.boxplot(data=df_dateindex[df_dateindex['holiday']==1],x='hr',y='cnt')"
      ]
    },
    {
      "cell_type": "code",
      "execution_count": null,
      "metadata": {
        "id": "6ui5rnsFOjmr"
      },
      "outputs": [],
      "source": [
        "sns.boxplot(data=df_dateindex[df_dateindex['holiday']==0],x='hr',y='cnt')"
      ]
    },
    {
      "cell_type": "code",
      "execution_count": null,
      "metadata": {
        "id": "6lOsUvjOOg47"
      },
      "outputs": [],
      "source": [
        "sns.boxplot(data=df_dateindex,x='weekday',y='cnt')"
      ]
    },
    {
      "cell_type": "code",
      "execution_count": null,
      "metadata": {
        "id": "h7hH-BHFOopU"
      },
      "outputs": [],
      "source": [
        "sns.boxplot(data=df_dateindex,x='weathersit',y='cnt')"
      ]
    },
    {
      "cell_type": "code",
      "execution_count": null,
      "metadata": {
        "id": "Qkcr5vs0Pd-n"
      },
      "outputs": [],
      "source": [
        "sns.boxplot(data=df_dateindex[df_dateindex['holiday']==1],x='weathersit',y='cnt')"
      ]
    },
    {
      "cell_type": "code",
      "execution_count": null,
      "metadata": {
        "id": "wvbCuNKLPoGc"
      },
      "outputs": [],
      "source": [
        "sns.boxplot(data=df_dateindex[df_dateindex['holiday']==0],x='weathersit',y='cnt')"
      ]
    },
    {
      "cell_type": "code",
      "execution_count": null,
      "metadata": {
        "id": "V17vhsY1RVTB"
      },
      "outputs": [],
      "source": [
        "import numpy as np"
      ]
    },
    {
      "cell_type": "code",
      "execution_count": null,
      "metadata": {
        "id": "OxX-MiFTRDqv"
      },
      "outputs": [],
      "source": [
        "df_dateindex.assign(temp=df_dateindex.temp.apply(lambda x: np.round(10*x)))"
      ]
    },
    {
      "cell_type": "code",
      "execution_count": null,
      "metadata": {
        "id": "RXyz_yiNPsht"
      },
      "outputs": [],
      "source": [
        "plt.figure(figsize=(15,5))\n",
        "sns.boxplot(data=_[df_dateindex['holiday']==1],x='temp',y='cnt')\n",
        "plt.show()\n",
        "plt.figure(figsize=(15,5))\n",
        "sns.boxplot(data=_[df_dateindex['holiday']==0],x='temp',y='cnt')\n",
        "plt.show()"
      ]
    },
    {
      "cell_type": "code",
      "execution_count": null,
      "metadata": {
        "id": "gLa7fbtZS9i5"
      },
      "outputs": [],
      "source": [
        "df_dateindex.assign(atemp=df_dateindex.atemp.apply(lambda x: np.round(10*x)))"
      ]
    },
    {
      "cell_type": "code",
      "execution_count": null,
      "metadata": {
        "id": "TxTQmWMiQTrS"
      },
      "outputs": [],
      "source": [
        "plt.figure(figsize=(15,5))\n",
        "sns.boxplot(data=_[df_dateindex['holiday']==1],x='atemp',y='cnt')\n",
        "plt.show()\n",
        "plt.figure(figsize=(15,5))\n",
        "sns.boxplot(data=_[df_dateindex['holiday']==0],x='atemp',y='cnt')\n",
        "plt.show()"
      ]
    },
    {
      "cell_type": "code",
      "execution_count": null,
      "metadata": {
        "id": "p5uwrUtYTQcC"
      },
      "outputs": [],
      "source": [
        "df_dateindex.assign(hum=df_dateindex.hum.apply(lambda x: np.round(10*x)))"
      ]
    },
    {
      "cell_type": "code",
      "execution_count": null,
      "metadata": {
        "id": "VW--ftUUTQcJ"
      },
      "outputs": [],
      "source": [
        "plt.figure(figsize=(15,5))\n",
        "sns.boxplot(data=_[df_dateindex['holiday']==1],x='hum',y='cnt')\n",
        "plt.show()\n",
        "plt.figure(figsize=(15,5))\n",
        "sns.boxplot(data=_[df_dateindex['holiday']==0],x='hum',y='cnt')\n",
        "plt.show()"
      ]
    },
    {
      "cell_type": "code",
      "execution_count": null,
      "metadata": {
        "id": "Dy_ok3_PTdMt"
      },
      "outputs": [],
      "source": [
        "df_dateindex.assign(windspeed=df_dateindex.windspeed.apply(lambda x: np.round(10*x)))"
      ]
    },
    {
      "cell_type": "code",
      "execution_count": null,
      "metadata": {
        "id": "AVnoNFjmTtu2"
      },
      "outputs": [],
      "source": [
        "plt.figure(figsize=(15,5))\n",
        "sns.boxplot(data=_[df_dateindex['holiday']==1],x='windspeed',y='cnt')\n",
        "plt.show()\n",
        "plt.figure(figsize=(15,5))\n",
        "sns.boxplot(data=_[df_dateindex['holiday']==0],x='windspeed',y='cnt')\n",
        "plt.show()"
      ]
    },
    {
      "cell_type": "markdown",
      "metadata": {
        "id": "DpM-W-DCUMGn"
      },
      "source": [
        "#時系列可視化"
      ]
    },
    {
      "cell_type": "code",
      "execution_count": null,
      "metadata": {
        "id": "0BmwotBDTyOd"
      },
      "outputs": [],
      "source": [
        "df_dateindex.cnt.plot(figsize=(20,4))"
      ]
    },
    {
      "cell_type": "code",
      "execution_count": null,
      "metadata": {
        "id": "ZX8P5liGUYrd"
      },
      "outputs": [],
      "source": [
        "日毎合計 = df_dateindex.groupby('dteday').sum()"
      ]
    },
    {
      "cell_type": "code",
      "execution_count": null,
      "metadata": {
        "id": "mw0wdKvWUuPM"
      },
      "outputs": [],
      "source": [
        "日毎合計.cnt.plot(figsize=(20,4))"
      ]
    },
    {
      "cell_type": "code",
      "execution_count": null,
      "metadata": {
        "id": "s2uHwJviVImN"
      },
      "outputs": [],
      "source": [
        "df_dateindex['cnt'][:1000].plot(figsize=(20,4), marker='1')"
      ]
    },
    {
      "cell_type": "code",
      "execution_count": null,
      "metadata": {
        "id": "eqoWySdFVtEs"
      },
      "outputs": [],
      "source": [
        "for i,j in df_dateindex.groupby('mnth'):\n",
        "  j.cnt.plot(figsize=(20,4), marker='+')\n",
        "  plt.show()"
      ]
    },
    {
      "cell_type": "markdown",
      "metadata": {
        "id": "nfATNPUdXYWl"
      },
      "source": [
        "#部分系列データの整形"
      ]
    },
    {
      "cell_type": "markdown",
      "metadata": {
        "id": "o6pAM9FDGUx9"
      },
      "source": [
        "##スケーリング・正規化"
      ]
    },
    {
      "cell_type": "code",
      "source": [
        "for i in ['season','mnth','weekday','workingday','weathersit','hr']:\n",
        "  print(i, df_dateindex[i].value_counts().sort_index().index)"
      ],
      "metadata": {
        "id": "8M2i8gjBXpBX"
      },
      "execution_count": null,
      "outputs": []
    },
    {
      "cell_type": "code",
      "execution_count": null,
      "metadata": {
        "id": "ZM0Ygu0HFXFv"
      },
      "outputs": [],
      "source": [
        "df_scaled = df_dateindex.assign(cnt = df_dateindex.cnt / df_dateindex.cnt.median()).assign(weathersit = df_dateindex.weathersit -1).assign(season = df_dateindex.weathersit -1).assign(mnth = df_dateindex.mnth -1)"
      ]
    },
    {
      "cell_type": "markdown",
      "metadata": {
        "id": "9ZafX__RMeON"
      },
      "source": [
        "##欠損の補完"
      ]
    },
    {
      "cell_type": "code",
      "execution_count": null,
      "metadata": {
        "id": "fNJLPM8wa_C2"
      },
      "outputs": [],
      "source": [
        "daterange = pd.date_range(start=df_dateindex.index[0], end=df_dateindex.index[-1], freq='H')\n",
        "daterange"
      ]
    },
    {
      "cell_type": "code",
      "execution_count": null,
      "metadata": {
        "id": "UJZopRSXaXmL"
      },
      "outputs": [],
      "source": [
        "df_daterange=pd.Series(range(len(daterange)),index=daterange,name='date_id')"
      ]
    },
    {
      "cell_type": "code",
      "execution_count": null,
      "metadata": {
        "id": "PQazTCkKbSTz"
      },
      "outputs": [],
      "source": [
        "df_nan = pd.merge(df_scaled, df_daterange, left_index=True, right_index=True, how='outer')\n",
        "df_nan.isna().sum()"
      ]
    },
    {
      "cell_type": "code",
      "execution_count": null,
      "metadata": {
        "id": "G6FNNPeb9fI9"
      },
      "outputs": [],
      "source": [
        "plt.figure(figsize=(20,4))\n",
        "plt.plot(df_nan.iloc[:743].cnt.fillna(0),marker='1')\n",
        "plt.show()"
      ]
    },
    {
      "cell_type": "markdown",
      "metadata": {
        "id": "EsWyDOvqMalV"
      },
      "source": [
        "##部分系列の分割"
      ]
    },
    {
      "cell_type": "code",
      "execution_count": null,
      "metadata": {
        "id": "OeJpUTd-9ttt"
      },
      "outputs": [],
      "source": [
        "df_nan.cnt = df_nan.cnt.fillna(0)\n",
        "df_nan = df_nan.ffill()"
      ]
    },
    {
      "cell_type": "code",
      "execution_count": null,
      "metadata": {
        "id": "MOo1iHk0GzDa",
        "cellView": "form"
      },
      "outputs": [],
      "source": [
        "#@title 系列長パラメタ\n",
        "length_pred = 24 #@param\n",
        "#ターゲット期間\n",
        "length_target = 6 #@param\n",
        "#部分系列長=予測変数長+ターゲット期間\n",
        "length_ss = length_pred + length_target"
      ]
    },
    {
      "cell_type": "code",
      "execution_count": null,
      "metadata": {
        "id": "yq3QeTtnNQMo"
      },
      "outputs": [],
      "source": [
        "#groupby <-> resample (時間インデックスで使用可能)\n",
        "[j for i,j in df_nan.resample('24h')][0]"
      ]
    },
    {
      "cell_type": "code",
      "execution_count": null,
      "metadata": {
        "id": "CVWkETYBN7pQ"
      },
      "outputs": [],
      "source": [
        "#データフレームの各行をリストでまとめる\n",
        "df_nan.resample('24h').aggregate(list).head(2)"
      ]
    },
    {
      "cell_type": "code",
      "execution_count": null,
      "metadata": {
        "id": "AlXt0jP1Oy6d"
      },
      "outputs": [],
      "source": [
        "df_nan.resample('24h',offset='23h').aggregate(list).head(2)"
      ]
    },
    {
      "cell_type": "code",
      "execution_count": null,
      "metadata": {
        "id": "sERUVMiUPhFA"
      },
      "outputs": [],
      "source": [
        "pd.concat([df_nan.resample('4h',offset=str(i)+'h').aggregate(list) for i in range(4)]).sort_index()"
      ]
    },
    {
      "cell_type": "code",
      "execution_count": null,
      "metadata": {
        "id": "m2hZagBwB1gZ"
      },
      "outputs": [],
      "source": [
        "df_resample = pd.concat([df_nan.resample(str(length_ss)+'h',offset=str(i)+'h').aggregate(list) \n",
        "for i in range(length_ss)]).sort_index()\n",
        "df_resample.head()"
      ]
    },
    {
      "cell_type": "code",
      "execution_count": null,
      "metadata": {
        "id": "p-Z1dzHhG92i"
      },
      "outputs": [],
      "source": [
        "df_list = df_resample[df_resample.cnt.apply(len) == length_ss]\n",
        "df_list.head()"
      ]
    },
    {
      "cell_type": "markdown",
      "metadata": {
        "id": "RuE8TJpjPcGk"
      },
      "source": [
        "##訓練テスト分割：月の初めと終わりに分割"
      ]
    },
    {
      "cell_type": "code",
      "execution_count": null,
      "metadata": {
        "id": "D8Zm_3yiHPhd"
      },
      "outputs": [],
      "source": [
        "dteday_meanfill = pd.Series( list(map(lambda x:int(str(x)[8:10]), df_list.index)), index=df_list.index, name='split')\n",
        "dteday_meanfill"
      ]
    },
    {
      "cell_type": "code",
      "execution_count": null,
      "metadata": {
        "id": "25pBkNXlHpUY"
      },
      "outputs": [],
      "source": [
        "series_target_train = dteday_meanfill.apply(lambda x: 1 <= int(x) <= 20) \n",
        "series_target_test = dteday_meanfill.apply(lambda x: 20 < int(x) )\n",
        "series_target_test"
      ]
    },
    {
      "cell_type": "markdown",
      "metadata": {
        "id": "-ykphVapO-zJ"
      },
      "source": [
        "##静的な変数の生成（季節・気候）"
      ]
    },
    {
      "cell_type": "code",
      "execution_count": null,
      "metadata": {
        "id": "yu-i3DBdIOrc"
      },
      "outputs": [],
      "source": [
        "#名義変数は最頻値をとる\n",
        "#df_mode = df_list[['season','mnth','weekday','workingday','weathersit','hr']].applymap(lambda x: scipy.stats.mode(x)[0].astype(int)).apply(lambda x:x-x.min(), axis=0)\n",
        "df_mode = df_list[['season','mnth','weekday','workingday','weathersit','hr']].applymap(lambda x: scipy.stats.mode([i for i in x if not np.isnan(i)])[0].astype(int))\n",
        "df_mode.describe()"
      ]
    },
    {
      "cell_type": "code",
      "execution_count": null,
      "metadata": {
        "id": "SKUGDIwaIbTf"
      },
      "outputs": [],
      "source": [
        "mode_numpy = np.array(list(map(np.concatenate, df_mode.values)))\n",
        "mode_numpy"
      ]
    },
    {
      "cell_type": "code",
      "execution_count": null,
      "metadata": {
        "id": "TdRFkclbIr_A"
      },
      "outputs": [],
      "source": [
        "mode_train = np.array(list(map(np.concatenate, df_mode[series_target_train].values)))\n",
        "mode_train.shape"
      ]
    },
    {
      "cell_type": "code",
      "source": [
        "for i in mode_train.T:\n",
        "  print(np.unique(i))"
      ],
      "metadata": {
        "id": "ujDLduEQbHRs"
      },
      "execution_count": null,
      "outputs": []
    },
    {
      "cell_type": "code",
      "execution_count": null,
      "metadata": {
        "id": "6qI9h_PUI0p7"
      },
      "outputs": [],
      "source": [
        "mode_test = np.array(list(map(np.concatenate, df_mode[series_target_test].values)))\n",
        "mode_test.shape"
      ]
    },
    {
      "cell_type": "markdown",
      "metadata": {
        "id": "kr3JRxQBQQMl"
      },
      "source": [
        "##実数値の変数（気候）"
      ]
    },
    {
      "cell_type": "code",
      "execution_count": null,
      "metadata": {
        "id": "uoiW5v7RJC2s"
      },
      "outputs": [],
      "source": [
        "#数値変数は平均\n",
        "average_dataframe = df_list[['temp',\t'atemp',\t'hum',\t'windspeed']].applymap(np.nanmean)\n",
        "average_dataframe"
      ]
    },
    {
      "cell_type": "code",
      "execution_count": null,
      "metadata": {
        "id": "dhd_dzEBJJEm"
      },
      "outputs": [],
      "source": [
        "average_numpy = average_dataframe.values\n",
        "average_numpy"
      ]
    },
    {
      "cell_type": "code",
      "execution_count": null,
      "metadata": {
        "id": "x060zweVZPm6"
      },
      "outputs": [],
      "source": [
        "average_train = average_dataframe[series_target_train].values\n",
        "average_train"
      ]
    },
    {
      "cell_type": "code",
      "execution_count": null,
      "metadata": {
        "id": "Ld5P8d57JaGr"
      },
      "outputs": [],
      "source": [
        "average_test = average_dataframe[series_target_test].values\n",
        "average_test"
      ]
    },
    {
      "cell_type": "code",
      "execution_count": null,
      "metadata": {
        "id": "CtSpXnyFJc1l"
      },
      "outputs": [],
      "source": [
        "#cnt から予測変数と目的変数を生成\n",
        "sequence_dataframe = pd.merge(df_list.cnt.apply(lambda x:x[:length_pred]).rename('predictors'),\n",
        "         df_list.cnt.apply(lambda x:np.nanmean(x[-length_target:])).rename('target'),\n",
        "         left_index=True,right_index=True)\n",
        "sequence_dataframe"
      ]
    },
    {
      "cell_type": "code",
      "execution_count": null,
      "metadata": {
        "id": "LisydfAaJjTe"
      },
      "outputs": [],
      "source": [
        "#部分系列の配列\n",
        "sequence_numpy = np.array(sequence_dataframe.predictors.values.tolist())[:,:,np.newaxis]\n",
        "sequence_numpy.shape"
      ]
    },
    {
      "cell_type": "code",
      "execution_count": null,
      "metadata": {
        "id": "4hCff39zJnQR"
      },
      "outputs": [],
      "source": [
        "#部分系列の訓練用分割\n",
        "sequence_train = np.array(sequence_dataframe[series_target_train].predictors.values.tolist())[:,:,np.newaxis]\n",
        "sequence_train.shape"
      ]
    },
    {
      "cell_type": "code",
      "execution_count": null,
      "metadata": {
        "id": "jOPdxTSqJr1F"
      },
      "outputs": [],
      "source": [
        "#部分系列のテスト用分割\n",
        "sequence_test = np.array(sequence_dataframe[series_target_test].predictors.values.tolist())[:,:,np.newaxis]\n",
        "sequence_test.shape"
      ]
    },
    {
      "cell_type": "code",
      "execution_count": null,
      "metadata": {
        "id": "MZFMhmnNJwnt"
      },
      "outputs": [],
      "source": [
        "target_train = np.array(sequence_dataframe[series_target_train].target.values.tolist())[:,np.newaxis]\n",
        "target_train.shape"
      ]
    },
    {
      "cell_type": "code",
      "execution_count": null,
      "metadata": {
        "id": "TJuXKs_pJydQ"
      },
      "outputs": [],
      "source": [
        "target_test = np.array(sequence_dataframe[series_target_test].target.values.tolist())[:,np.newaxis]\n",
        "target_test.shape"
      ]
    },
    {
      "cell_type": "code",
      "execution_count": null,
      "metadata": {
        "id": "xfKlxCeCRGIn"
      },
      "outputs": [],
      "source": [
        "print(mode_train[0])\n",
        "print(mode_train[100])"
      ]
    },
    {
      "cell_type": "code",
      "execution_count": null,
      "metadata": {
        "id": "OKji0a2MSCtt"
      },
      "outputs": [],
      "source": [
        "list_mode = list(map(lambda x: np.unique(x) - min(x), mode_numpy.T))\n",
        "list_mode"
      ]
    },
    {
      "cell_type": "code",
      "execution_count": null,
      "metadata": {
        "id": "-CdsATl1XlUi"
      },
      "outputs": [],
      "source": [
        "sequence_train.shape, sequence_test.shape, average_train.shape, average_test.shape"
      ]
    },
    {
      "cell_type": "markdown",
      "metadata": {
        "id": "DBHdb6ObTl_p"
      },
      "source": [
        "sequence_train/test が時系列の numpy配列，average_train/test が気候実数値変数のnumpy配列，mode_train/test が名義変数のnumpy 配列"
      ]
    },
    {
      "cell_type": "markdown",
      "metadata": {
        "id": "n2Cqgs0HXrjZ"
      },
      "source": [
        "#LSTMモデル\n",
        "\n",
        "名義変数 (6) > EmbeddingLayer\n",
        "\n",
        "時系列 (24,1) > LSTM\n",
        "\n",
        "実数変数 (4): 気象情報 > LSTMの出力・Embeddingの出力と結合\n",
        "\n",
        "出力： 実数: length_target 時間の平均"
      ]
    },
    {
      "cell_type": "code",
      "execution_count": null,
      "metadata": {
        "id": "S4rI9-BkZvnB"
      },
      "outputs": [],
      "source": [
        "#LSTM : 内部表現の次数\n",
        "dim_lstm = 10\n",
        "dim_ts_in = target_train.shape[1]\n",
        "dim_ts_in"
      ]
    },
    {
      "cell_type": "code",
      "execution_count": null,
      "metadata": {
        "id": "_i2FETSM7lyX"
      },
      "outputs": [],
      "source": [
        "#名義変数\n",
        "df_mode.describe()"
      ]
    },
    {
      "cell_type": "code",
      "execution_count": null,
      "metadata": {
        "id": "IeoE-ttyc3zG"
      },
      "outputs": [],
      "source": [
        "#埋め込み層のパラメタ\n",
        "len_season = 4\n",
        "len_mnth = 12\n",
        "len_wd = 7\n",
        "len_workday = 2\n",
        "len_weathersit =3\n",
        "len_hr = 24"
      ]
    },
    {
      "cell_type": "code",
      "execution_count": null,
      "metadata": {
        "id": "Reo9aeQgKDv6"
      },
      "outputs": [],
      "source": [
        "#@title クラス定義\n",
        "class LSTMRegressor(nn.Module): #Moduleのサブクラス\n",
        "  def __init__(self):\n",
        "    super(LSTMRegressor,self).__init__()\n",
        "\n",
        "    #ハイパーパラメタ\n",
        "    self.dim_input = length_pred\n",
        "    self.dim_lstm = dim_lstm\n",
        "    self.dim_ts_in = dim_ts_in\n",
        "    self.dim_linear = 10\n",
        "\n",
        "    #LSTM層\n",
        "    self.lstm = LSTM(input_size=self.dim_ts_in, hidden_size=self.dim_lstm, batch_first=True)\n",
        "\n",
        "    self.feature_dims = [2, 2, 2, 2, 2, 2, 4]\n",
        "    self.use_features = [True, True, True, True, True, True, True]\n",
        "\n",
        "    #Embedding層\n",
        "    self.embedding_season = Embedding(len_season, self.feature_dims[0])\n",
        "    self.embedding_mnth = Embedding(len_mnth, self.feature_dims[1])\n",
        "    self.embedding_weekday = Embedding(len_wd, self.feature_dims[2])\n",
        "    self.embedding_workingday = Embedding(len_workday, self.feature_dims[3])\n",
        "    self.embedding_hr = Embedding(len_hr, self.feature_dims[4])\n",
        "    self.embedding_weathersit = Embedding(len_weathersit, self.feature_dims[5])\n",
        "\n",
        "    #各層の出力と気候実変数入力を結合して線形和\n",
        "    self.linear = torch.nn.Sequential(\n",
        "        Linear(dim_lstm + \n",
        "               sum([i for i,j in zip(self.feature_dims, self.use_features) if j]), \n",
        "               self.dim_linear, bias = True), # 10変数出力\n",
        "        torch.nn.Dropout(),\n",
        "        Linear(self.dim_linear, 1, bias = True), # 1変数\n",
        "        torch.nn.ReLU(), # 活性化関数\n",
        "        )\n",
        "\n",
        "  def forward(self, X_ts, X_season, X_mnth, X_weekday, X_workingday, X_hr, X_wsit, X_weatherv):\n",
        "    #LSTM\n",
        "    x_ts, (h, cell) = self.lstm(X_ts)\n",
        "\n",
        "    #Embedding\n",
        "    x_season = self.embedding_season(X_season)\n",
        "    x_mnth = self.embedding_mnth(X_mnth)\n",
        "    x_weekday = self.embedding_weekday(X_weekday)\n",
        "    x_workingday = self.embedding_workingday(X_workingday)\n",
        "    x_hr = self.embedding_hr(X_hr)\n",
        "    x_wsit = self.embedding_weathersit(X_wsit)\n",
        "\n",
        "    #結合\n",
        "    x = torch.concat([ x_ts[:,-1,:] ] + \n",
        "                     [i for i,j in zip(\n",
        "            [x_season, x_mnth, \n",
        "             x_weekday, x_workingday, x_hr, \n",
        "             x_wsit, X_weatherv], \n",
        "             self.use_features) if j], dim=1)\n",
        "\n",
        "    #線形結合層\n",
        "    x = self.linear(x)    \n",
        "\n",
        "    return x"
      ]
    },
    {
      "cell_type": "code",
      "execution_count": null,
      "metadata": {
        "id": "KkSAQj0satKz"
      },
      "outputs": [],
      "source": [
        "#ネットワークオブジェクト初期化\n",
        "regressor = LSTMRegressor()\n",
        "regressor"
      ]
    },
    {
      "cell_type": "code",
      "execution_count": null,
      "metadata": {
        "id": "hw0u8ruVfkKp"
      },
      "outputs": [],
      "source": [
        "# forward 関数のテスト\n",
        "length = 10\n",
        "for i in range(0, 100, length):\n",
        "\n",
        "  out = regressor.forward(torch.Tensor(sequence_train[i:i+length]), \n",
        "                           torch.LongTensor(mode_train[i:i+length,0]),\n",
        "                           torch.LongTensor(mode_train[i:i+length,1]),\n",
        "                           torch.LongTensor(mode_train[i:i+length,2]),\n",
        "                           torch.LongTensor(mode_train[i:i+length,3]),\n",
        "                           torch.LongTensor(mode_train[i:i+length,5]),\n",
        "                           torch.LongTensor(mode_train[i:i+length,4]),\n",
        "                           torch.FloatTensor(average_train[i:i+length])\n",
        "                           )\n",
        "out.shape"
      ]
    },
    {
      "cell_type": "code",
      "execution_count": null,
      "metadata": {
        "id": "lHLFpB_6Y7Fv"
      },
      "outputs": [],
      "source": [
        "#pip install torchviz"
      ]
    },
    {
      "cell_type": "code",
      "execution_count": null,
      "metadata": {
        "id": "HHRjHMazao2_"
      },
      "outputs": [],
      "source": [
        "#from torchviz import make_dot\n",
        "#make_dot(out, params=dict(regressor.named_parameters()))"
      ]
    },
    {
      "cell_type": "markdown",
      "metadata": {
        "id": "8axoyUZUpgCU"
      },
      "source": [
        "#訓練準備\n",
        "\n",
        "* GPU設定 \n",
        "* 最適化・学習率\n",
        "* 損失関数\n",
        "* 世代数・バッチサイズ\n",
        "* データローダ\n",
        "\n",
        "Colabのノートブック設定 > ハードウェアアクセラレータ > GPU > 保存\n",
        "\n",
        "保存するとセッションが初期化されるので再度実行する\n",
        "\n",
        "CPUのメモリからGPUのメモリにネットワークパラメタやデータをコピー"
      ]
    },
    {
      "cell_type": "code",
      "execution_count": null,
      "metadata": {
        "id": "nYUOngcNntsf"
      },
      "outputs": [],
      "source": [
        "# 学習用のデバイスを設定 GPUは 'cuda'\n",
        "device = ('cuda' if torch.cuda.is_available() else 'cpu')\n",
        "#device = 'cpu' #デバッグ時\n",
        "device"
      ]
    },
    {
      "cell_type": "code",
      "execution_count": null,
      "metadata": {
        "id": "oJ6_pUHqpw5F"
      },
      "outputs": [],
      "source": [
        "# GPUのメモリにパラメタをコピー\n",
        "regressor = regressor.to(device) "
      ]
    },
    {
      "cell_type": "code",
      "execution_count": null,
      "metadata": {
        "id": "bgQsXyUBqXbM"
      },
      "outputs": [],
      "source": [
        "# 訓練モードを設定（勾配を保存する）\n",
        "regressor.train()"
      ]
    },
    {
      "cell_type": "code",
      "execution_count": null,
      "metadata": {
        "id": "Z7eCSW_5p4zl"
      },
      "outputs": [],
      "source": [
        "# 最適化手法を設定するオブジェクト（学習率）\n",
        "optimizer = optim.Adam(regressor.parameters(), lr = 0.0005)"
      ]
    },
    {
      "cell_type": "code",
      "execution_count": null,
      "metadata": {
        "id": "0egopikKqAGb"
      },
      "outputs": [],
      "source": [
        "# 損失関数\n",
        "lossfunc_mse = nn.MSELoss() #二乗誤差損失：スパイクを優先してフィッティング\n",
        "lossfunc_l1 = nn.L1Loss() # 絶対誤差損失：滑らかに変化する部分が優先されやすい"
      ]
    },
    {
      "cell_type": "code",
      "execution_count": null,
      "metadata": {
        "id": "Hmxz_REYqEnS"
      },
      "outputs": [],
      "source": [
        "# 学習率のスケジュール制御\n",
        "scheduler = optim.lr_scheduler.MultiStepLR(optimizer,milestones=(),gamma=0.1)"
      ]
    },
    {
      "cell_type": "code",
      "execution_count": null,
      "metadata": {
        "id": "jg7vMcwhrRqJ"
      },
      "outputs": [],
      "source": [
        "# 学習のラウンド数\n",
        "max_epoch = 800\n",
        "# バッチサイズ\n",
        "batchsize = 128"
      ]
    },
    {
      "cell_type": "code",
      "execution_count": null,
      "metadata": {
        "id": "aa6SH9Arq7FF"
      },
      "outputs": [],
      "source": [
        "#入力をTensorDatasetとしてまとめる\n",
        "#ss, season, mnth, weekday, workday, hr, weathersit, weatherv, target\n",
        "dataset=TensorDataset(torch.Tensor(sequence_train), \n",
        "                      torch.LongTensor(mode_train[:,0]),\n",
        "                      torch.LongTensor(mode_train[:,1]),\n",
        "                      torch.LongTensor(mode_train[:,2]),\n",
        "                      torch.LongTensor(mode_train[:,3]),\n",
        "                      torch.LongTensor(mode_train[:,5]),\n",
        "                      torch.LongTensor(mode_train[:,4]),\n",
        "                      torch.FloatTensor(average_train),\n",
        "                      torch.FloatTensor(target_train)\n",
        "                      )\n",
        "len(dataset)"
      ]
    },
    {
      "cell_type": "code",
      "execution_count": null,
      "metadata": {
        "id": "kJANWGrgsI6z"
      },
      "outputs": [],
      "source": [
        "#ミニバッチを切り出して for 文の中で取り出すためのデータローダ\n",
        "dataloader = DataLoader(dataset=dataset, shuffle=True, drop_last=False, batch_size=batchsize)\n",
        "#len はバッチ数\n",
        "len(dataloader)"
      ]
    },
    {
      "cell_type": "markdown",
      "metadata": {
        "id": "NkplMcCXsjBo"
      },
      "source": [
        "#訓練"
      ]
    },
    {
      "cell_type": "code",
      "execution_count": null,
      "metadata": {
        "id": "F23udqbPsadz"
      },
      "outputs": [],
      "source": [
        "#時間を計測(マジックコマンド)\n",
        "#%%time\n",
        "#スタート時刻\n",
        "start = time()\n",
        "#記録用のリスト\n",
        "list_loss = []\n",
        "#記録用の変数\n",
        "batch_count = 0\n",
        "\n",
        "#学習の処理を最大epoch数繰り返す\n",
        "for epoch in range(max_epoch):\n",
        "\n",
        "  #ログ：残り時間等\n",
        "  if epoch >0 and epoch % 10 == 0:\n",
        "    print(epoch, batch_count, epoch_loss, ' ETA: ', (max_epoch-epoch)*timedelta(seconds = time()-start)/(epoch)/60)\n",
        "\n",
        "  epoch_loss = 0 #epoch毎の損失の合計\n",
        "\n",
        "  # dataloaderからバッチを取り出す（10回で終了）\n",
        "  #for i, (ss, season, mnth, weekday, workday, hr, weathersit, weatherv, target) in zip(range(10), dataloader):\n",
        "  for i, (ss, season, mnth, weekday, workday, hr, weathersit, weatherv, target) in enumerate(dataloader):\n",
        "\n",
        "    #前に計算した勾配をリセット(0にする)\n",
        "    optimizer.zero_grad()\n",
        "\n",
        "    #ネットワークの出力を計算（入力変数はGPUにコピー）\n",
        "    out = regressor(ss.to(device), season.to(device), mnth.to(device), weekday.to(device), \n",
        "                    workday.to(device), hr.to(device), weathersit.to(device), weatherv.to(device))\n",
        "    \n",
        "    #損失関数を計算\n",
        "    #loss = torch.sum(abs(target.to(device) - out))\n",
        "    loss = lossfunc_l1(target.to(device), out)\n",
        "\n",
        "    #逆伝播の勾配を計算\n",
        "    loss.backward()\n",
        "\n",
        "    #モデルパラメタの更新\n",
        "    optimizer.step()\n",
        "\n",
        "    #epoch損失の累積\n",
        "    epoch_loss += torch.sqrt(loss).item()\n",
        "    #バッチ数の更新\n",
        "    batch_count += 1\n",
        "\n",
        "  #scheduler.step() #学習率のスケジューリング\n",
        "\n",
        "  #epoch損失の記録\n",
        "  list_loss.append(epoch_loss)\n",
        "\n",
        "  #学習曲線\n",
        "  if epoch > 0 and epoch % 50 ==0:\n",
        "    #学習曲線プロット\n",
        "    plt.xlabel('epochs')\n",
        "    plt.ylabel('loss')\n",
        "    plt.plot(list_loss[-50:])\n",
        "    plt.show()"
      ]
    },
    {
      "cell_type": "code",
      "execution_count": null,
      "metadata": {
        "id": "p7U2MGyg-3dl"
      },
      "outputs": [],
      "source": [
        "#保存用のパスを設定\n",
        "logpath = '/content/'"
      ]
    },
    {
      "cell_type": "code",
      "execution_count": null,
      "metadata": {
        "id": "KNV6j84zRKZr"
      },
      "outputs": [],
      "source": [
        "#学習したモデルを保存\n",
        "torch.save(regressor.state_dict(), logpath+'regressor_'+str(max_epoch)+'.pkl')"
      ]
    },
    {
      "cell_type": "markdown",
      "metadata": {
        "id": "d-11riNtj_hZ"
      },
      "source": [
        "#モデル読み込み"
      ]
    },
    {
      "cell_type": "code",
      "source": [
        "#ファイルエリアにpklファイルを置いてから実行\n",
        "#<All keys matched successfully>と出力されれば読み込み成功\n",
        "#regressor.load_state_dict(torch.load(logpath+'regressor_100.pkl'))"
      ],
      "metadata": {
        "id": "a3JUZXGag2MS"
      },
      "execution_count": null,
      "outputs": []
    },
    {
      "cell_type": "markdown",
      "metadata": {
        "id": "WEydEY7s_D2P"
      },
      "source": [
        "#予測"
      ]
    },
    {
      "cell_type": "code",
      "execution_count": null,
      "metadata": {
        "id": "IsosfNGB-5eH"
      },
      "outputs": [],
      "source": [
        "#テストデータとローダ\n",
        "testset=TensorDataset(torch.Tensor(sequence_test), \n",
        "                      torch.LongTensor(mode_test[:,0]),\n",
        "                      torch.LongTensor(mode_test[:,1]),\n",
        "                      torch.LongTensor(mode_test[:,2]),\n",
        "                      torch.LongTensor(mode_test[:,3]),\n",
        "                      torch.LongTensor(mode_test[:,5]),\n",
        "                      torch.LongTensor(mode_test[:,4]),\n",
        "                      torch.FloatTensor(average_test),\n",
        "                      torch.FloatTensor(target_test)\n",
        "                      )\n",
        "\n",
        "testloader=DataLoader(dataset=testset, shuffle=False, drop_last=False, batch_size=batchsize)"
      ]
    },
    {
      "cell_type": "code",
      "execution_count": null,
      "metadata": {
        "id": "hG7sg30UAnb_"
      },
      "outputs": [],
      "source": [
        "#評価モード（勾配を計算しない）\n",
        "regressor.eval()"
      ]
    },
    {
      "cell_type": "code",
      "source": [
        "dataloader = DataLoader(dataset=dataset, shuffle=False, drop_last=False, batch_size=batchsize)"
      ],
      "metadata": {
        "id": "bwWxHguuN_fK"
      },
      "execution_count": null,
      "outputs": []
    },
    {
      "cell_type": "code",
      "execution_count": null,
      "metadata": {
        "id": "elYaKmRhEq1_"
      },
      "outputs": [],
      "source": [
        "#学習済みモデルの訓練データに対する予測を計算\n",
        "%%time\n",
        "#40sec\n",
        "train_pred_list = []\n",
        "train_loss_sum = 0\n",
        "batch_count = 0\n",
        "\n",
        "for i, (ss, season, mnth, weekday, workday, hr, weathersit, weatherv, target) in enumerate(dataloader):\n",
        "\n",
        "    out = regressor(ss.to(device), season.to(device), mnth.to(device), weekday.to(device), \n",
        "                    workday.to(device), hr.to(device), weathersit.to(device), weatherv.to(device))\n",
        "\n",
        "    loss = lossfunc_l1(target.to(device), out)\n",
        "\n",
        "    train_pred_list.append(out.tolist())\n",
        "    train_loss_sum += torch.sqrt(loss).item()\n",
        "    batch_count += 1\n",
        "\n",
        "train_pred_array = np.concatenate(train_pred_list)\n",
        "print(train_pred_array.shape)\n",
        "print(batch_count)"
      ]
    },
    {
      "cell_type": "code",
      "execution_count": null,
      "metadata": {
        "id": "FIev1OkqAeFD"
      },
      "outputs": [],
      "source": [
        "#学習済みモデルのテストデータに対する予測を計算\n",
        "\n",
        "%%time \n",
        "#25sec\n",
        "test_pred_list = []\n",
        "test_loss_sum = 0\n",
        "batch_count = 0\n",
        "\n",
        "for i, (ss, season, mnth, weekday, workday, hr, weathersit, weatherv, target) in enumerate(testloader):\n",
        "    #出力を計算\n",
        "    out = regressor(ss.to(device), season.to(device), mnth.to(device), weekday.to(device), \n",
        "                    workday.to(device), hr.to(device), weathersit.to(device), weatherv.to(device))\n",
        "    #損失\n",
        "    loss = lossfunc_l1(target.to(device), out)\n",
        "\n",
        "    #出力・損失をリストに保存(tolist,item：値が自動的CPUのメモリにコピーされるので異なるデバイス間のエラーが出難い)\n",
        "    test_pred_list.append(out.tolist())\n",
        "    test_loss_sum += torch.sqrt(loss).item()\n",
        "\n",
        "    batch_count+=1\n",
        "\n",
        "print(batch_count)\n",
        "\n",
        "#出力の結合(numpy配列)\n",
        "test_pred_array = np.concatenate(test_pred_list)\n",
        "\n",
        "print(test_pred_array.shape)"
      ]
    },
    {
      "cell_type": "code",
      "source": [
        "#世代数\n",
        "print(train_loss_sum)\n",
        "print(test_loss_sum)"
      ],
      "metadata": {
        "id": "9cuzITJHRgD_"
      },
      "execution_count": null,
      "outputs": []
    },
    {
      "cell_type": "markdown",
      "metadata": {
        "id": "xrPHumTzByTo"
      },
      "source": [
        "#視覚的検証"
      ]
    },
    {
      "cell_type": "code",
      "execution_count": null,
      "metadata": {
        "id": "ATMY_MWsEeHY"
      },
      "outputs": [],
      "source": [
        "df_train_pred = pd.DataFrame({'target':target_train.flatten(),\n",
        "                           'pred': train_pred_array.flatten()},\n",
        "                          index=pd.to_datetime(series_target_train.index[series_target_train]))\n",
        "df_train_pred.plot(alpha=0.3,figsize=(20,4))"
      ]
    },
    {
      "cell_type": "code",
      "execution_count": null,
      "metadata": {
        "id": "fQ5nIezGBNxB"
      },
      "outputs": [],
      "source": [
        "#年月でDFを分割するためdate項目を追加\n",
        "df_train_pred_ym = df_train_pred.assign(ym = pd.Series(df_train_pred.index).apply(lambda x:str(x)[:7]).values)"
      ]
    },
    {
      "cell_type": "code",
      "execution_count": null,
      "metadata": {
        "id": "tm4yxJwwPGLk"
      },
      "outputs": [],
      "source": [
        "fig, axes = plt.subplots(12,1, figsize=(20,64))\n",
        "\n",
        "for (i,j), ax in zip(df_train_pred_ym.groupby('ym'), axes.ravel()):\n",
        "  j.drop('ym',axis=1).plot(title=i, marker='x', ax=ax)\n",
        "\n",
        "plt.show()"
      ]
    },
    {
      "cell_type": "code",
      "execution_count": null,
      "metadata": {
        "id": "rIOQ_VUwDBRz"
      },
      "outputs": [],
      "source": [
        "df_test_pred = pd.DataFrame({'target':target_test.flatten(),\n",
        "                             'pred':test_pred_array.flatten()},\n",
        "                            index=series_target_test.index[series_target_test])\n",
        "\n",
        "df_test_pred.plot(alpha=0.3, figsize=(20,4))"
      ]
    },
    {
      "cell_type": "code",
      "execution_count": null,
      "metadata": {
        "id": "3HMppt3o2KCQ"
      },
      "outputs": [],
      "source": [
        "#年月でDFを分割するためdate項目を追加\n",
        "df_test_pred_ym = df_test_pred.assign(date = pd.Series(df_test_pred.index).apply(lambda x:str(x)[:7]).values)\n",
        "df_test_pred_ym"
      ]
    },
    {
      "cell_type": "code",
      "execution_count": null,
      "metadata": {
        "id": "IRdLnHsxetPH"
      },
      "outputs": [],
      "source": [
        "fig, axes = plt.subplots(6,2, figsize=(16,32))\n",
        "\n",
        "for (i,j), ax in zip(df_test_pred_ym.groupby('date'), axes.ravel()):\n",
        "  j.plot(title=i, marker='x', ax=ax)\n",
        "\n",
        "plt.show()"
      ]
    },
    {
      "cell_type": "markdown",
      "metadata": {
        "id": "JvD543DbgNZ2"
      },
      "source": [
        "#学習後の検証事項\n",
        "\n",
        "予測が単なる後追いになっていないか\n",
        "\n",
        "損失関数が適切か（絶対誤差・二乗誤差）\n",
        "\n",
        "時間変動のパターンが再現されているか\n"
      ]
    },
    {
      "cell_type": "markdown",
      "metadata": {
        "id": "D9EFr4SFiaTf"
      },
      "source": [
        "#課題\n",
        "適宜パラメタなどを変更してプログラムを実行し，以下の例のような考察検証する\n",
        "\n",
        "* テストデータのプロットで検証事項について考察\n",
        "* 過適合の検証（収束直後のモデルと収束後に学習を続けたモデルでテスト損失を比較）\n",
        "* 収束に要する epoch 数 (epoch vs 損失のプロットを作成する)\n",
        "* 学習の収束前と収束後の予測の違い（学習 epoch数の少ないモデルと収束後のモデルでプロットを比較する）\n",
        "* 損失関数による違い（MSEの場合とL1の場合のプロットを作成して比較する）\n",
        "* 静的変数を除いた場合の損失と視覚的な検証"
      ]
    },
    {
      "cell_type": "markdown",
      "metadata": {
        "id": "LgkkDdLBlBRV"
      },
      "source": [
        "#レポート\n",
        "\n",
        "TeX形式で考察・検証した内容を記述する"
      ]
    },
    {
      "cell_type": "code",
      "execution_count": null,
      "metadata": {
        "id": "cHVdG9UUkpYZ"
      },
      "outputs": [],
      "source": []
    }
  ],
  "metadata": {
    "accelerator": "GPU",
    "colab": {
      "collapsed_sections": [
        "-CllaL2HKE8L",
        "o6pAM9FDGUx9",
        "RuE8TJpjPcGk",
        "n2Cqgs0HXrjZ"
      ],
      "provenance": [],
      "toc_visible": true,
      "authorship_tag": "ABX9TyP/zAAfLRFE3unJ1LUAEk12",
      "include_colab_link": true
    },
    "kernelspec": {
      "display_name": "Python 3",
      "name": "python3"
    },
    "language_info": {
      "name": "python"
    }
  },
  "nbformat": 4,
  "nbformat_minor": 0
}